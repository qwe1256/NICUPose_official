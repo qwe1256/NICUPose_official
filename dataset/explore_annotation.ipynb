{
 "cells": [
  {
   "cell_type": "code",
   "execution_count": 1,
   "metadata": {},
   "outputs": [],
   "source": [
    "import json"
   ]
  },
  {
   "cell_type": "code",
   "execution_count": 2,
   "metadata": {},
   "outputs": [],
   "source": [
    "f = open(\"\")  # path to json file\n",
    "anno = json.load(f)"
   ]
  },
  {
   "cell_type": "code",
   "execution_count": 3,
   "metadata": {},
   "outputs": [
    {
     "data": {
      "text/plain": [
       "dict_keys(['annotations', 'images', 'categories'])"
      ]
     },
     "execution_count": 3,
     "metadata": {},
     "output_type": "execute_result"
    }
   ],
   "source": [
    "anno.keys()"
   ]
  },
  {
   "cell_type": "code",
   "execution_count": 4,
   "metadata": {},
   "outputs": [
    {
     "data": {
      "text/plain": [
       "dict_keys(['file_name', 'id', 'width', 'height'])"
      ]
     },
     "execution_count": 4,
     "metadata": {},
     "output_type": "execute_result"
    }
   ],
   "source": [
    "anno['images'][0].keys()"
   ]
  },
  {
   "cell_type": "code",
   "execution_count": 5,
   "metadata": {},
   "outputs": [
    {
     "data": {
      "text/plain": [
       "dict_keys(['bbox', 'area', 'id', 'image_id', 'keypoints', 'category_id', 'iscrowd', 'num_keypoints'])"
      ]
     },
     "execution_count": 5,
     "metadata": {},
     "output_type": "execute_result"
    }
   ],
   "source": [
    "anno['annotations'][0].keys()"
   ]
  },
  {
   "cell_type": "code",
   "execution_count": 6,
   "metadata": {},
   "outputs": [
    {
     "data": {
      "text/plain": [
       "{'supercategory': 'person',\n",
       " 'name': 'person',\n",
       " 'id': 1,\n",
       " 'keypoints': ['nose',\n",
       "  'left_eye',\n",
       "  'right_eye',\n",
       "  'left_ear',\n",
       "  'right_ear',\n",
       "  'left_shoulder',\n",
       "  'right_shoulder',\n",
       "  'left_elbow',\n",
       "  'right_elbow',\n",
       "  'left_wrist',\n",
       "  'right_wrist',\n",
       "  'left_hip',\n",
       "  'right_hip',\n",
       "  'left_knee',\n",
       "  'right_knee',\n",
       "  'left_ankle',\n",
       "  'right_ankle'],\n",
       " 'skeleton': [[16, 14],\n",
       "  [14, 12],\n",
       "  [17, 15],\n",
       "  [15, 13],\n",
       "  [12, 13],\n",
       "  [6, 12],\n",
       "  [7, 13],\n",
       "  [6, 7],\n",
       "  [6, 8],\n",
       "  [7, 9],\n",
       "  [8, 10],\n",
       "  [9, 11],\n",
       "  [2, 3],\n",
       "  [1, 2],\n",
       "  [1, 3],\n",
       "  [2, 4],\n",
       "  [3, 5],\n",
       "  [4, 6],\n",
       "  [5, 7]]}"
      ]
     },
     "execution_count": 6,
     "metadata": {},
     "output_type": "execute_result"
    }
   ],
   "source": [
    "anno['categories'][0]"
   ]
  }
 ],
 "metadata": {
  "kernelspec": {
   "display_name": "nicu",
   "language": "python",
   "name": "python3"
  },
  "language_info": {
   "codemirror_mode": {
    "name": "ipython",
    "version": 3
   },
   "file_extension": ".py",
   "mimetype": "text/x-python",
   "name": "python",
   "nbconvert_exporter": "python",
   "pygments_lexer": "ipython3",
   "version": "3.8.16"
  },
  "orig_nbformat": 4
 },
 "nbformat": 4,
 "nbformat_minor": 2
}
