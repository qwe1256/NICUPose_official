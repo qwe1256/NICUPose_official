{
 "cells": [
  {
   "cell_type": "code",
   "execution_count": 1,
   "metadata": {},
   "outputs": [],
   "source": [
    "import os\n",
    "import json\n",
    "import numpy as np\n",
    "import itertools\n",
    "import re\n",
    "from collections import defaultdict\n",
    "from IPython.core.interactiveshell import InteractiveShell\n",
    "InteractiveShell.ast_node_interactivity = \"all\""
   ]
  },
  {
   "cell_type": "code",
   "execution_count": 2,
   "metadata": {},
   "outputs": [],
   "source": [
    "keypoints_dict={\n",
    "        0: \"nose\",\n",
    "        1: \"left_eye\",\n",
    "        2: \"right_eye\",\n",
    "        3: \"left_ear\",\n",
    "        4: \"right_ear\",\n",
    "        5: \"left_shoulder\",\n",
    "        6: \"right_shoulder\",\n",
    "        7: \"left_elbow\",\n",
    "        8: \"right_elbow\",\n",
    "        9: \"left_wrist\",\n",
    "        10: \"right_wrist\",\n",
    "        11: \"left_hip\",\n",
    "        12: \"right_hip\",\n",
    "        13: \"left_knee\",\n",
    "        14: \"right_knee\",\n",
    "        15: \"left_ankle\",\n",
    "        16: \"right_ankle\"\n",
    "    }"
   ]
  },
  {
   "cell_type": "code",
   "execution_count": 3,
   "metadata": {},
   "outputs": [],
   "source": [
    "def create_bbox(lst):\n",
    "    res = []\n",
    "    res.append([lst[1][0], lst[0][1]])\n",
    "    res.append([element1 - element2 for (element1, element2) in zip(lst[1], lst[0])])\n",
    "    res = list(itertools.chain(*res))\n",
    "    return res"
   ]
  },
  {
   "cell_type": "code",
   "execution_count": 49,
   "metadata": {},
   "outputs": [],
   "source": [
    "def coco_converter(label, area_info):\n",
    "    image_id = re.split('/|\\\\\\\\',label['imagePath'])[-1].split('.')[0]\n",
    "    image_id = str(int(''.join(filter(str.isdigit, image_id.replace('_', '0')))))\n",
    "    for area_id in (area_info['images']):\n",
    "        if area_id['file_name'].split('/')[-1].split('.')[0] == image_id:\n",
    "            area = area_info['annotations'][int(area_id['id'])]['area']\n",
    "            bbox = area_info['annotations'][int(area_id['id'])]['bbox']\n",
    "    keypoints = dict.fromkeys(keypoints_dict.values())\n",
    "    #bbox = defaultdict(list)\n",
    "    for i in label['shapes']:\n",
    "        # if i['label'] == 'bbox':\n",
    "        #     bbox[\"bbox\"]=(create_bbox(i['points']))\n",
    "        for x in keypoints_dict.values():\n",
    "            if i['label'] == x:\n",
    "                key = list(itertools.chain(*i['points']))\n",
    "                key.append(i['group_id'])\n",
    "                keypoints[i['label']] = key\n",
    "    for k,v in keypoints.items():\n",
    "        if v[2] == 0:\n",
    "            keypoints[k] = [0,0,0]\n",
    "    keypoints_lst = []\n",
    "    for i in keypoints.values():\n",
    "        keypoints_lst.append(i)\n",
    "    keypoints_lst = list(itertools.chain(*keypoints_lst))\n",
    "    images = {}\n",
    "    images.update(({\"file_name\": image_id+'.png'}))\n",
    "    images.update(({\"id\": int(image_id)}))\n",
    "    images.update({\"width\": 640})\n",
    "    images.update({\"height\": 480})\n",
    "    annotations = {}\n",
    "    annotations.update({\"bbox\": bbox})\n",
    "    annotations.update({\"area\" :area})\n",
    "    annotations.update({\"id\" : int(image_id)})\n",
    "    annotations.update({\"image_id\" : int(image_id)})\n",
    "    annotations.update({\"keypoints\": keypoints_lst})\n",
    "    annotations.update({\"category_id\": 1})\n",
    "    annotations.update({\"iscrowd\": 0})\n",
    "    annotations.update({\"num_keypoints\": 17})\n",
    "    return images, annotations"
   ]
  },
  {
   "cell_type": "code",
   "execution_count": 50,
   "metadata": {},
   "outputs": [],
   "source": [
    "f = open('/home/hugo/Desktop/test/annotations.json')\n",
    "area_info = json.load(f)"
   ]
  },
  {
   "cell_type": "code",
   "execution_count": 56,
   "metadata": {},
   "outputs": [],
   "source": [
    "#train_set\n",
    "converted_label = {\"annotations\": [], \"images\": [], \"categories\": []}\n",
    "for file in (os.listdir(os.getcwd())):\n",
    "    if file.endswith('.json'):\n",
    "        f = open(os.path.join(os.getcwd(), file))\n",
    "        label = json.load(f)\n",
    "        images, annotations = coco_converter(label, area_info)\n",
    "        converted_label['images'].append(images)\n",
    "        converted_label['annotations'].append(annotations)\n",
    "categories = {}\n",
    "categories.update({\"supercategory\": \"person\"})\n",
    "categories.update({\"name\": \"person\"})\n",
    "categories.update({\"id\": 1})\n",
    "categories.update({\"keypoints\": [\"nose\", \"left_eye\", \"right_eye\", \"left_ear\", \"right_ear\", \"left_shoulder\", \"right_shoulder\", \"left_elbow\", \n",
    "\"right_elbow\", \"left_wrist\", \"right_wrist\", \"left_hip\", \"right_hip\", \"left_knee\", \"right_knee\", \"left_ankle\", \"right_ankle\"]})\n",
    "categories.update({\"skeleton\": [[16,14],[14,12],[17,15],[15,13],[12,13],[6,12],[7,13], [6,7],[6,8],\n",
    "        [7,9],[8,10],[9,11],[2,3],[1,2],[1,3],[2,4],[3,5],[4,6],[5,7]]})\n",
    "converted_label['categories'].append(categories)\n",
    "converted_label = json.dumps(converted_label) #need to save it manually to json file "
   ]
  },
  {
   "cell_type": "code",
   "execution_count": null,
   "metadata": {},
   "outputs": [],
   "source": [
    "converted_label"
   ]
  },
  {
   "cell_type": "code",
   "execution_count": 59,
   "metadata": {},
   "outputs": [],
   "source": [
    "test_path = '/home/hugo/Desktop/deep-high-resolution-net.pytorch-master/data/ours/annotations/test_annotations'\n",
    "converted_label = {\"annotations\": [], \"images\": [], \"categories\": []}\n",
    "for file in (os.listdir(test_path)):\n",
    "    if file.endswith('.json'):\n",
    "        f = open(os.path.join(test_path, file))\n",
    "        label = json.load(f)\n",
    "        images, annotations = coco_converter(label, area_info)\n",
    "        converted_label['images'].append(images)\n",
    "        converted_label['annotations'].append(annotations)\n",
    "categories = {}\n",
    "categories.update({\"supercategory\": \"person\"})\n",
    "categories.update({\"name\": \"person\"})\n",
    "categories.update({\"id\": 1})\n",
    "categories.update({\"keypoints\": [\"nose\", \"left_eye\", \"right_eye\", \"left_ear\", \"right_ear\", \"left_shoulder\", \"right_shoulder\", \"left_elbow\", \n",
    "\"right_elbow\", \"left_wrist\", \"right_wrist\", \"left_hip\", \"right_hip\", \"left_knee\", \"right_knee\", \"left_ankle\", \"right_ankle\"]})\n",
    "categories.update({\"skeleton\": [[16, 14], [14, 12], [17, 15], [15, 13], [12, 13], [6, 12], \n",
    "    [7, 13], [6, 7], [6, 8], [7, 9], [8, 10], \n",
    "    [9, 11], [2, 3], [1, 2], [1, 3], [2, 4], \n",
    "    [3, 5], [4, 6], [5, 7]]})\n",
    "converted_label['categories'].append(categories)\n",
    "converted_label = json.dumps(converted_label) #need to save it manually to json file \n",
    "# out_file = open(os.path.join(os.path.dirname(os.getcwd()), \"converted.json\"), \"w\")"
   ]
  },
  {
   "cell_type": "code",
   "execution_count": null,
   "metadata": {},
   "outputs": [],
   "source": [
    "converted_label"
   ]
  },
  {
   "cell_type": "code",
   "execution_count": 26,
   "metadata": {},
   "outputs": [
    {
     "data": {
      "text/plain": [
       "dict_keys(['images', 'annotations', 'categories'])"
      ]
     },
     "execution_count": 26,
     "metadata": {},
     "output_type": "execute_result"
    }
   ],
   "source": [
    "from matplotlib import image\n",
    "path = \"/home/hugo/Desktop/deep-high-resolution-net.pytorch-master/data/syrip/annotations/person_keypoints_train_infant.json\"\n",
    "f = open(path)\n",
    "syrip = json.load(f)\n",
    "syrip.keys()\n",
    "ids = []\n",
    "for img in syrip['images']:\n",
    "    if img['file_name'] == 'train00001.jpg':\n",
    "        kept = syrip['annotations'][0]['keypoints']\n",
    "invisible_kept = []\n",
    "for c, i in enumerate(kept):\n",
    "    if i < 2:\n",
    "        invisible_kept.append(c)"
   ]
  },
  {
   "cell_type": "code",
   "execution_count": 27,
   "metadata": {},
   "outputs": [
    {
     "data": {
      "text/plain": [
       "[30, 31, 32]"
      ]
     },
     "execution_count": 27,
     "metadata": {},
     "output_type": "execute_result"
    },
    {
     "data": {
      "text/plain": [
       "[461.6506652832031,\n",
       " 645.4415283203125,\n",
       " 2.0,\n",
       " 588.2577514648438,\n",
       " 601.3251342773438,\n",
       " 2.0,\n",
       " 381.0824890136719,\n",
       " 538.0277709960938,\n",
       " 2.0,\n",
       " 851.0634155273438,\n",
       " 505.4200439453125,\n",
       " 2.0,\n",
       " 355.3552485108878,\n",
       " 452.21578947368425,\n",
       " 2.0,\n",
       " 905.0815643003616,\n",
       " 674.980701754386,\n",
       " 2.0,\n",
       " 254.7517397389579,\n",
       " 671.3877192982457,\n",
       " 2.0,\n",
       " 996.8534545898438,\n",
       " 1034.8162841796875,\n",
       " 2.0,\n",
       " 28.393845002115768,\n",
       " 1052.243859649123,\n",
       " 2.0,\n",
       " 996.8534545898438,\n",
       " 1351.3033447265625,\n",
       " 2.0,\n",
       " -45.0,\n",
       " -45.0,\n",
       " 0.0,\n",
       " 868.3280639648438,\n",
       " 1324.4498291015625,\n",
       " 2.0,\n",
       " 434.7945861816406,\n",
       " 1405.01025390625,\n",
       " 2.0,\n",
       " 1167.3692835986071,\n",
       " 1314.5315789473684,\n",
       " 2.0,\n",
       " 536.4639892578125,\n",
       " 1663.9539794921875,\n",
       " 2.0,\n",
       " 1119.6240234375,\n",
       " 1585.3118896484375,\n",
       " 2.0,\n",
       " 1002.6082763671875,\n",
       " 1876.8634033203125,\n",
       " 2.0]"
      ]
     },
     "execution_count": 27,
     "metadata": {},
     "output_type": "execute_result"
    }
   ],
   "source": [
    "invisible_kept\n",
    "kept"
   ]
  },
  {
   "cell_type": "code",
   "execution_count": null,
   "metadata": {},
   "outputs": [],
   "source": []
  }
 ],
 "metadata": {
  "kernelspec": {
   "display_name": "Python 3.8.13 ('i2')",
   "language": "python",
   "name": "python3"
  },
  "language_info": {
   "codemirror_mode": {
    "name": "ipython",
    "version": 3
   },
   "file_extension": ".py",
   "mimetype": "text/x-python",
   "name": "python",
   "nbconvert_exporter": "python",
   "pygments_lexer": "ipython3",
   "version": "3.8.13"
  },
  "orig_nbformat": 4,
  "vscode": {
   "interpreter": {
    "hash": "5b3b3d624e180ef51414d13f69c4f65d22fe3078b561ae847e9cb9c469360251"
   }
  }
 },
 "nbformat": 4,
 "nbformat_minor": 2
}
